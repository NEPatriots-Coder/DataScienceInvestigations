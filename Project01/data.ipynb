{
 "cells": [
  {
   "cell_type": "code",
   "execution_count": 2,
   "id": "98c4fec6",
   "metadata": {},
   "outputs": [],
   "source": [
    "import pandas as pd\n",
    "import numpy as np\n",
    "import openpyxl\n",
    "from openpyxl import Workbook\n",
    "from openpyxl.styles import Font, Alignment"
   ]
  },
  {
   "cell_type": "code",
   "execution_count": 18,
   "id": "e9ca2793",
   "metadata": {},
   "outputs": [],
   "source": [
    "workbook = openpyxl.load_workbook(\"/home/alaskapycoder/DataScience/Daily_Inventory_Dashboard.xlsx\")"
   ]
  },
  {
   "cell_type": "code",
   "execution_count": 19,
   "id": "375206ff",
   "metadata": {},
   "outputs": [],
   "source": [
    "worksheet = workbook.active"
   ]
  },
  {
   "cell_type": "code",
   "execution_count": 20,
   "id": "f01dffa6",
   "metadata": {},
   "outputs": [],
   "source": [
    "worksheet.title = \"Daily Inventory Dashboard\""
   ]
  },
  {
   "cell_type": "code",
   "execution_count": 21,
   "id": "6e587d0d",
   "metadata": {},
   "outputs": [
    {
     "name": "stdout",
     "output_type": "stream",
     "text": [
      "ProductNumber\n",
      "Description\n",
      "Planner\n",
      "074112\n",
      "39 X 5 1/16   1/2IN     CLEAR\n",
      "LTE01\n",
      "074112DD\n",
      "39 X 5 1/16  1/2IN DOUBLE DARK\n",
      "LTE01\n",
      "074112SAT\n",
      "39 X 5 1/16   1/2IN  SATIN\n",
      "LTE01\n",
      "0741FACEBLACK\n",
      "0741 FACE FRAME BLACK\n",
      "LTE01\n"
     ]
    }
   ],
   "source": [
    "# Iterate through rows\n",
    "for row in worksheet.iter_rows(min_row=1, max_row=5, min_col=1, max_col=3):\n",
    "    for cell in row:\n",
    "        print(cell.value)\n"
   ]
  },
  {
   "cell_type": "code",
   "execution_count": 22,
   "id": "5f50c05b",
   "metadata": {},
   "outputs": [
    {
     "name": "stdout",
     "output_type": "stream",
     "text": [
      "Worksheet dimensions: A1:U1701\n"
     ]
    }
   ],
   "source": [
    "print(f\"Worksheet dimensions: {worksheet.dimensions}\")"
   ]
  },
  {
   "cell_type": "code",
   "execution_count": null,
   "id": "868d7316",
   "metadata": {},
   "outputs": [],
   "source": []
  }
 ],
 "metadata": {
  "kernelspec": {
   "display_name": "My Virtual Env",
   "language": "python",
   "name": "myenv"
  },
  "language_info": {
   "codemirror_mode": {
    "name": "ipython",
    "version": 3
   },
   "file_extension": ".py",
   "mimetype": "text/x-python",
   "name": "python",
   "nbconvert_exporter": "python",
   "pygments_lexer": "ipython3",
   "version": "3.12.3"
  }
 },
 "nbformat": 4,
 "nbformat_minor": 5
}
